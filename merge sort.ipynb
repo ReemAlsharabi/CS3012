{
 "cells": [
  {
   "cell_type": "code",
   "execution_count": 1,
   "id": "383f8948",
   "metadata": {},
   "outputs": [
    {
     "name": "stdout",
     "output_type": "stream",
     "text": [
      "Sorted array: [7, 10, 19, 33, 34, 49, 50, 66, 77, 79, 83, 101, 104, 113, 132, 140, 147, 148, 148, 151, 156, 156, 199, 212, 213, 230, 242, 254, 264, 271, 291, 293, 316, 318, 322, 325, 334, 348, 352, 356, 364, 370, 375, 406, 417, 420, 429, 439, 443, 452, 453, 469, 474, 477, 492, 496, 496, 507, 512, 515, 524, 546, 549, 559, 559, 565, 575, 594, 615, 628, 640, 648, 649, 695, 698, 699, 700, 764, 766, 770, 796, 805, 806, 820, 825, 827, 842, 857, 888, 899, 900, 916, 923, 951, 952, 968, 973, 988, 988, 995]\n",
      "Number of comparisons: 544\n"
     ]
    }
   ],
   "source": [
    "import random\n",
    "\n",
    "def sort(arr):\n",
    "    if len(arr) <= 1: # if the array has one element\n",
    "        return arr\n",
    "    \n",
    "    mid = len(arr) // 2\n",
    "    left = arr[:mid] # start to mid\n",
    "    right = arr[mid:] # mid to end\n",
    "\n",
    "    left = sort(left)\n",
    "    right = sort(right)\n",
    "\n",
    "    return merge(left, right)\n",
    "\n",
    "def merge(left, right):\n",
    "    global comparisons\n",
    "    merged_arr = []\n",
    "    i = 0\n",
    "    j = 0\n",
    "\n",
    "    while i < len(left) and j < len(right): # until we didn't reach the end of either arrays\n",
    "        comparisons += 1\n",
    "        if left[i] < right[j]:\n",
    "            merged_arr.append(left[i])\n",
    "            i += 1\n",
    "        else:\n",
    "            merged_arr.append(right[j])\n",
    "            j += 1\n",
    "    # add the remaining elements of left and right to the merged_arr\n",
    "    merged_arr += left[i:]\n",
    "    merged_arr += right[j:]\n",
    "\n",
    "    return merged_arr\n",
    "\n",
    "def main():\n",
    "    arr = [random.randint(1, 1000) for _ in range(100)] # Generate an array of random 100 elements\n",
    "    print(\"Sorted array:\", sort(arr))\n",
    "    print(\"Number of comparisons:\", comparisons)\n",
    "    \n",
    "comparisons = 0\n",
    "main()"
   ]
  }
 ],
 "metadata": {
  "kernelspec": {
   "display_name": "Python 3 (ipykernel)",
   "language": "python",
   "name": "python3"
  },
  "language_info": {
   "codemirror_mode": {
    "name": "ipython",
    "version": 3
   },
   "file_extension": ".py",
   "mimetype": "text/x-python",
   "name": "python",
   "nbconvert_exporter": "python",
   "pygments_lexer": "ipython3",
   "version": "3.9.13"
  }
 },
 "nbformat": 4,
 "nbformat_minor": 5
}
